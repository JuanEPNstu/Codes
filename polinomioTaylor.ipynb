{
 "cells": [
  {
   "cell_type": "code",
   "execution_count": 4,
   "id": "8af0ceed",
   "metadata": {},
   "outputs": [],
   "source": [
    "import sympy as sp"
   ]
  },
  {
   "cell_type": "code",
   "execution_count": 5,
   "id": "02bc0007",
   "metadata": {},
   "outputs": [],
   "source": [
    "def truncar(numero, decimales):\n",
    "    \"\"\"   \n",
    "    :numero: El número a truncar\n",
    "    :param decimales: Cuántos decimales mantener\n",
    "\n",
    "    :return: número truncado en número n de decimales, ejemplo: original= 0.335, 0.33 a 2 decimales truncados\n",
    "    \"\"\"\n",
    "    factor = 10 ** decimales\n",
    "    return int(numero * factor) / factor"
   ]
  },
  {
   "cell_type": "code",
   "execution_count": 6,
   "id": "f6a01ccd",
   "metadata": {},
   "outputs": [
    {
     "name": "stdout",
     "output_type": "stream",
     "text": [
      "Original: 0.335555\n",
      "Truncamiento: 0.3355\n"
     ]
    }
   ],
   "source": [
    "x = 0.335555\n",
    "x_truncado = truncar(x, 4)\n",
    "print(\"Original:\", x)\n",
    "print(\"Truncamiento:\", x_truncado)"
   ]
  },
  {
   "cell_type": "code",
   "execution_count": 62,
   "id": "95da52c6",
   "metadata": {},
   "outputs": [],
   "source": [
    "def polinomio_taylor(func_str, x0, grado, decimales):\n",
    "    \n",
    "    \"\"\"\n",
    "    :func_str: string, función original\n",
    "    :x0: entero, punto alrededor del cual se desarrolla el polinomio    \n",
    "    :grado: entero, grado de polinomio de Taylor    \n",
    "    :decimales: entero, decimales a truncar\n",
    "    :return: polinomio de taylor aproximado a la función origianl, f(x) ≈ P_n(x) + R_n(x)\n",
    "    \"\"\"\n",
    "    \n",
    "    x = sp.Symbol('x')\n",
    "    f = sp.sympify(func_str)\n",
    "\n",
    "    taylor_expr = 0\n",
    "\n",
    "    for n in range(grado + 1):\n",
    "        derivada = f.diff(x, n)\n",
    "        deriv_val = derivada.subs(x, x0)\n",
    "        factorial_n = sp.factorial(n)\n",
    "        coef = deriv_val / factorial_n\n",
    "\n",
    "        if coef.is_number:\n",
    "            coef = truncar(float(coef), decimales)\n",
    "\n",
    "        if coef == 0:\n",
    "            continue\n",
    "\n",
    "        base = (x - x0)**n if x0 != 0 else x**n\n",
    "        taylor_expr += coef * base\n",
    "\n",
    "    taylor_expr = sp.expand(taylor_expr)\n",
    "    taylor_expr = sp.collect(taylor_expr, x)\n",
    "    lista = [\"(\"+str(truncar(taylor_expr.coeff(x,aux), decimales))+\")*x**\"+str(aux) for aux in range(grado+1)][::-1]\n",
    "    exp = \"+\".join(lista)\n",
    "    print(exp)\n",
    "    taylor_expr = sp.sympify(exp)\n",
    "    Pn_str = str(taylor_expr)\n",
    "\n",
    "    n_plus_1 = grado + 1\n",
    "    factorial_np1 = sp.factorial(n_plus_1)\n",
    "    inverso_truncado = truncar(1 / float(factorial_np1), decimales)\n",
    "\n",
    "    base_error = sp.expand((x - x0)**n_plus_1)\n",
    "    Rn_str = f\"( {inverso_truncado}*{func_str}^({n_plus_1})(ξ(x)) )*({base_error})\"\n",
    "\n",
    "    print(f\"P_n(x) ≈ {Pn_str}\")\n",
    "    print(f\"R_n(x) ≈ {Rn_str}\")\n",
    "\n",
    "    return f\"f(x) ≈ {Pn_str} + {Rn_str}\""
   ]
  },
  {
   "cell_type": "markdown",
   "id": "27d1ea81",
   "metadata": {},
   "source": [
    "#### Funciones válidas para función `taylor`\n",
    "\n",
    "Funciones Trigonométricas\n",
    "\n",
    "| Función Matemática | String válido (`func_str`) |\n",
    "|--------------------|-----------------------------|\n",
    "| \\( sin(x) \\)      | `\"sin(x)\"`                  |\n",
    "| \\( cos(x) \\)      | `\"cos(x)\"`                  |\n",
    "| \\( tan(x) \\)      | `\"tan(x)\"`                  |\n",
    "| \\( cot(x) \\)      | `\"cot(x)\"`                  |\n",
    "| \\( sec(x) \\)      | `\"sec(x)\"`                  |\n",
    "| \\( csc(x) \\)      | `\"csc(x)\"`                  |\n",
    "\n",
    "\n",
    "\n",
    "Funciones Exponenciales y Logarítmicas\n",
    "\n",
    "| Función Matemática   | String válido (`func_str`) |\n",
    "|----------------------|-----------------------------|\n",
    "| \\( e^x \\)            | `\"exp(x)\"`                  |\n",
    "| \\( ln(x) \\)         | `\"ln(x)\"`                   |\n",
    "| \\( log_{10}(x) \\)   | `\"log(x, 10)\"`              |\n",
    "| \\( log_b(x) \\)      | `\"log(x, b)\"` (reemplazar `b`) |\n",
    "\n",
    "\n",
    "\n",
    "Funciones Misceláneas\n",
    "\n",
    "| Función Matemática | String válido (`func_str`) |\n",
    "|--------------------|-----------------------------|\n",
    "| \\( \\sqrt{x} \\)     | `\"sqrt(x)\"`                 |\n",
    "| \\( \\|x\\| \\)          | `\"Abs(x)\"`                  |\n",
    "| Polinomio típico   | `\"x**2 + 3*x\"`              |\n"
   ]
  },
  {
   "cell_type": "code",
   "execution_count": 64,
   "id": "0f151c65",
   "metadata": {},
   "outputs": [
    {
     "name": "stdout",
     "output_type": "stream",
     "text": [
      "(-0.25)*x**4+(1.3333)*x**3+(-2.9999)*x**2+(3.9999)*x**1+(-2.0833)*x**0\n",
      "P_n(x) ≈ -0.25*x**4 + 1.3333*x**3 - 2.9999*x**2 + 3.9999*x - 2.0833\n",
      "R_n(x) ≈ ( 0.0083*ln(x)^(5)(ξ(x)) )*(x**5 - 5*x**4 + 10*x**3 - 10*x**2 + 5*x - 1)\n",
      "f(x) ≈ -0.25*x**4 + 1.3333*x**3 - 2.9999*x**2 + 3.9999*x - 2.0833 + ( 0.0083*ln(x)^(5)(ξ(x)) )*(x**5 - 5*x**4 + 10*x**3 - 10*x**2 + 5*x - 1)\n"
     ]
    }
   ],
   "source": [
    "print(polinomio_taylor(\"ln(x)\", x0=1, grado=4, decimales=4))"
   ]
  },
  {
   "cell_type": "code",
   "execution_count": null,
   "id": "63773c6c",
   "metadata": {},
   "outputs": [],
   "source": []
  },
  {
   "cell_type": "code",
   "execution_count": null,
   "id": "264c2e79-f315-45d9-9878-821a609182c8",
   "metadata": {},
   "outputs": [],
   "source": []
  }
 ],
 "metadata": {
  "kernelspec": {
   "display_name": "Python 3 (ipykernel)",
   "language": "python",
   "name": "python3"
  },
  "language_info": {
   "codemirror_mode": {
    "name": "ipython",
    "version": 3
   },
   "file_extension": ".py",
   "mimetype": "text/x-python",
   "name": "python",
   "nbconvert_exporter": "python",
   "pygments_lexer": "ipython3",
   "version": "3.11.10"
  }
 },
 "nbformat": 4,
 "nbformat_minor": 5
}
