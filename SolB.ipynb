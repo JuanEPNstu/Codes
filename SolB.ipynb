{
 "cells": [
  {
   "cell_type": "markdown",
   "id": "c2926f9b",
   "metadata": {},
   "source": [
    "<h1 style=\"text-align:center;\">ESCUELA POLITÉCNICA NACIONAL</h1>\n",
    "<h2 style=\"text-align:center;\">FACULTAD DE INGENIERÍA DE SISTEMAS</h2>\n",
    "<h3 style=\"text-align:center;\">INGENIERÍA EN COMPUTACIÓN</h3>"
   ]
  },
  {
   "cell_type": "markdown",
   "id": "2c6ffda6",
   "metadata": {},
   "source": [
    "**PERÍODO ACADÉMICO:** 2025-A  \n",
    "**ASIGNATURA:** ICCD412 Métodos Numéricos  \n",
    "**GRUPO:** GR2  \n",
    "**TIPO DE INSTRUMENTO:** [Codificación Clase 4]\n",
    "**FECHA DE ENTREGA LÍMITE:** [01/06/2025]  \n",
    "**ALUMNO:** Murillo Tobar Juan Pablo"
   ]
  },
  {
   "cell_type": "code",
   "execution_count": 3,
   "id": "5215ff03",
   "metadata": {
    "vscode": {
     "languageId": "html"
    }
   },
   "outputs": [],
   "source": [
    "# Librerías usadas en todo el notebook\n",
    "import math"
   ]
  },
  {
   "cell_type": "markdown",
   "id": "60b8b2a6",
   "metadata": {},
   "source": [
    "<h4 style=\"text-align:center;\">Método de la Secante</h4>\n",
    "Es un método abierto, es decir, que puede no convergir. Además, la diferencia con el de Newton es que este tiene dos aproximaciones iniciales\n",
    "### Código"
   ]
  },
  {
   "cell_type": "code",
   "execution_count": 5,
   "id": "9ec2a2a3",
   "metadata": {
    "vscode": {
     "languageId": "html"
    }
   },
   "outputs": [
    {
     "name": "stdout",
     "output_type": "stream",
     "text": [
      "La aproximacion a la raiz es 0.7390851324955944\n"
     ]
    },
    {
     "data": {
      "text/plain": [
       "0.7390851324955944"
      ]
     },
     "execution_count": 5,
     "metadata": {},
     "output_type": "execute_result"
    }
   ],
   "source": [
    "#Divide en dos partes al número, parte entera, parte decimal\n",
    "def f(x):\n",
    "    return math.cos(x) - x\n",
    "    \n",
    "def Secante(xn0, xn1, tol = 1e-6, iter = 25):\n",
    "    f0 = f(xn0)\n",
    "    f1 = f(xn1)\n",
    "    for x in range(iter):\n",
    "        if (f1-f0) == 0:\n",
    "            print(\"Diverge\")\n",
    "            return\n",
    "        xn2 = xn1 - f1 * ((xn1-xn0)/(f1-f0))\n",
    "        f2 = f(xn2)\n",
    "        toler = (xn1 - xn0)\n",
    "        if abs(toler) < tol:\n",
    "            print(f\"La aproximacion a la raiz es {xn0}\")\n",
    "            return xn0\n",
    "        xn0 = xn1\n",
    "        f0 = f(xn0)\n",
    "        xn1 = xn2 \n",
    "        f1 = f2\n",
    "    print(\"No convergio\")\n",
    "Secante(0, 2)"
   ]
  },
  {
   "cell_type": "markdown",
   "id": "542a9883-69ca-4f16-8b2d-e97e23c8efc2",
   "metadata": {},
   "source": [
    "<h4 style=\"text-align:center;\">Método de Newton</h4>\n",
    "Es un método abierto, es decir, que puede no convergir. Además, la diferencia con el de bisección es que toma a consideración la derivada de la función y que además solo toma una aproximación inicial.\n",
    "\n",
    "### Código"
   ]
  },
  {
   "cell_type": "code",
   "execution_count": 6,
   "id": "aec423f0-e6f0-4b72-9ae8-75191ad7a0f7",
   "metadata": {},
   "outputs": [
    {
     "name": "stdout",
     "output_type": "stream",
     "text": [
      "3.0\n",
      "6.0\n",
      "11.999999999999998\n",
      "23.999999999999996\n",
      "47.999999999999986\n",
      "95.99999999999994\n",
      "191.99999999999983\n",
      "383.99999999999955\n",
      "767.999999999999\n",
      "1535.9999999999975\n",
      "No convergio\n"
     ]
    }
   ],
   "source": [
    "def f(x):\n",
    "    return x**(1/3)\n",
    "\n",
    "def derivada(x):\n",
    "    return (1/3)*x**(-2/3)\n",
    "\n",
    "def Newton(x0, tol = 1e-6, iter = 10):\n",
    "    xant = x0\n",
    "    for x in range(iter):\n",
    "        fdex = f(xant)\n",
    "        der  = derivada(xant)\n",
    "        if der == 0:\n",
    "            print(\"La derivada en el punto es 0, por lo que diverge.\")\n",
    "        xsig = xant - (fdex/der)\n",
    "        toler = xsig - xant\n",
    "        print(abs(toler))\n",
    "        if abs(toler) < tol:\n",
    "            print(f\"La aproximacion a la raiz es {xant}\")\n",
    "            return xsig\n",
    "        xant = xsig\n",
    "    print(\"No convergio\")\n",
    "            \n",
    "        \n",
    "Newton(1)    "
   ]
  },
  {
   "cell_type": "code",
   "execution_count": null,
   "id": "f35bf658-050d-46d8-bf0c-caa2dc210da2",
   "metadata": {},
   "outputs": [],
   "source": []
  }
 ],
 "metadata": {
  "kernelspec": {
   "display_name": "Python 3 (ipykernel)",
   "language": "python",
   "name": "python3"
  },
  "language_info": {
   "codemirror_mode": {
    "name": "ipython",
    "version": 3
   },
   "file_extension": ".py",
   "mimetype": "text/x-python",
   "name": "python",
   "nbconvert_exporter": "python",
   "pygments_lexer": "ipython3",
   "version": "3.11.10"
  }
 },
 "nbformat": 4,
 "nbformat_minor": 5
}
