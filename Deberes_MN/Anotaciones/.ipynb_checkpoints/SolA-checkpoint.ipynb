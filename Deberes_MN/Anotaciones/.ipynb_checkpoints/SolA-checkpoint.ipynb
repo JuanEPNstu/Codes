{
 "cells": [
  {
   "cell_type": "markdown",
   "id": "c2926f9b",
   "metadata": {},
   "source": [
    "<h1 style=\"text-align:center;\">ESCUELA POLITÉCNICA NACIONAL</h1>\n",
    "<h2 style=\"text-align:center;\">FACULTAD DE INGENIERÍA DE SISTEMAS</h2>\n",
    "<h3 style=\"text-align:center;\">INGENIERÍA EN COMPUTACIÓN</h3>"
   ]
  },
  {
   "cell_type": "markdown",
   "id": "2c6ffda6",
   "metadata": {},
   "source": [
    "**PERÍODO ACADÉMICO:** 2025-A  \n",
    "**ASIGNATURA:** ICCD412 Métodos Numéricos  \n",
    "**GRUPO:** GR2  \n",
    "**TIPO DE INSTRUMENTO:** [Codificación Clase 3]\n",
    "**FECHA DE ENTREGA LÍMITE:** [01/06/2025]  \n",
    "**ALUMNO:** Murillo Tobar Juan Pablo"
   ]
  },
  {
   "cell_type": "code",
   "execution_count": 22,
   "id": "5215ff03",
   "metadata": {
    "vscode": {
     "languageId": "html"
    }
   },
   "outputs": [],
   "source": [
    "# Librerías usadas en todo el notebook\n",
    "import math"
   ]
  },
  {
   "cell_type": "markdown",
   "id": "60b8b2a6",
   "metadata": {},
   "source": [
    "<h4 style=\"text-align:center;\">Método de la Bisección</h4>\n",
    "Es un método cerrado, es decir, que converge siempre dentro de un intervalo en donde se encuentre la raíz y que la función sea continua.\n",
    "\n",
    "### Código"
   ]
  },
  {
   "cell_type": "code",
   "execution_count": 26,
   "id": "9ec2a2a3",
   "metadata": {
    "vscode": {
     "languageId": "html"
    }
   },
   "outputs": [
    {
     "name": "stdout",
     "output_type": "stream",
     "text": [
      "La aproximacion a la raiz es 1.2207450866699219\n"
     ]
    },
    {
     "data": {
      "text/plain": [
       "1.2207450866699219"
      ]
     },
     "execution_count": 26,
     "metadata": {},
     "output_type": "execute_result"
    }
   ],
   "source": [
    "#Divide en dos partes al número, parte entera, parte decimal\n",
    "def f(x):\n",
    "    return x**4 - x-1\n",
    "    \n",
    "def Biseccion(xn0, xn1, tol = 1e-6, iter = 25):\n",
    "    f0 = f(xn0)\n",
    "    f1 = f(xn1)\n",
    "    for x in range(iter):\n",
    "        xn2 = (xn1+xn0)/2\n",
    "        f2 = f(xn2)\n",
    "        toler = (xn1 - xn0)/2\n",
    "        if abs(toler) < tol:\n",
    "            print(f\"La aproximacion a la raiz es {xn0}\")\n",
    "            return xn0\n",
    "        if f2 * f1 < 0:\n",
    "            xn0, f0 = xn1, f1\n",
    "        xn1, f1 = xn2, f2\n",
    "    print(\"No convergio\")\n",
    "def signum(x):\n",
    "    if x == 0:\n",
    "        return 0\n",
    "    elif x > 0:\n",
    "        return 1\n",
    "    return -1\n",
    "Biseccion(1, 2)"
   ]
  },
  {
   "cell_type": "code",
   "execution_count": null,
   "id": "c19a8611-3dd7-4927-89b0-7ad9465158e6",
   "metadata": {},
   "outputs": [],
   "source": []
  }
 ],
 "metadata": {
  "kernelspec": {
   "display_name": "Python 3 (ipykernel)",
   "language": "python",
   "name": "python3"
  },
  "language_info": {
   "codemirror_mode": {
    "name": "ipython",
    "version": 3
   },
   "file_extension": ".py",
   "mimetype": "text/x-python",
   "name": "python",
   "nbconvert_exporter": "python",
   "pygments_lexer": "ipython3",
   "version": "3.11.10"
  }
 },
 "nbformat": 4,
 "nbformat_minor": 5
}
