{
 "cells": [
  {
   "cell_type": "markdown",
   "id": "c2926f9b",
   "metadata": {},
   "source": [
    "<h1 style=\"text-align:center;\">ESCUELA POLITÉCNICA NACIONAL</h1>\n",
    "<h2 style=\"text-align:center;\">FACULTAD DE INGENIERÍA DE SISTEMAS</h2>\n",
    "<h3 style=\"text-align:center;\">INGENIERÍA EN COMPUTACIÓN</h3>"
   ]
  },
  {
   "cell_type": "markdown",
   "id": "2c6ffda6",
   "metadata": {},
   "source": [
    "**PERÍODO ACADÉMICO:** 2025-A  \n",
    "**ASIGNATURA:** ICCD412 Métodos Numéricos  \n",
    "**GRUPO:** GR2  \n",
    "**TIPO DE INSTRUMENTO:** [Codificación Clase 5]\n",
    "**FECHA DE ENTREGA LÍMITE:** [01/06/2025]  \n",
    "**ALUMNO:** Murillo Tobar Juan Pablo"
   ]
  },
  {
   "cell_type": "code",
   "execution_count": 4,
   "id": "5215ff03",
   "metadata": {
    "vscode": {
     "languageId": "html"
    }
   },
   "outputs": [],
   "source": [
    "# Librerías usadas en todo el notebook\n",
    "import math"
   ]
  },
  {
   "cell_type": "markdown",
   "id": "60b8b2a6",
   "metadata": {},
   "source": [
    "<h4 style=\"text-align:center;\">Método de Posición Falsa</h4>\n",
    "Es un método cerrado, toma las mejores características del método de la secante y de la bisección, solo que a diferencia de la secante, este no descarta en cada iteración la mitad de los valores.\n",
    "\n",
    "### Código"
   ]
  },
  {
   "cell_type": "code",
   "execution_count": 25,
   "id": "9ec2a2a3",
   "metadata": {
    "vscode": {
     "languageId": "html"
    }
   },
   "outputs": [
    {
     "name": "stdout",
     "output_type": "stream",
     "text": [
      "La aproximacion a la raiz es 0.7853981633974483\n"
     ]
    },
    {
     "data": {
      "text/plain": [
       "0.7853981633974483"
      ]
     },
     "execution_count": 25,
     "metadata": {},
     "output_type": "execute_result"
    }
   ],
   "source": [
    "#Divide en dos partes al número, parte entera, parte decimal\n",
    "def f(x):\n",
    "    return math.cos(x) - x\n",
    "    \n",
    "def PosicionFalsa(xn0, xn1, tol = 1e-6, iter = 25):\n",
    "    f0 = f(xn0)\n",
    "    f1 = f(xn1)\n",
    "    for x in range(iter):\n",
    "        if (f1-f0) == 0:\n",
    "            print(\"Diverge\")\n",
    "            return\n",
    "        xn2 = xn1 - f1 * ((xn1-xn0)/(f1-f0))\n",
    "        f2 = f(xn2)\n",
    "        toler = (xn2 - xn1)\n",
    "        if abs(toler) < tol:\n",
    "            print(f\"La aproximacion a la raiz es {xn0}\")\n",
    "            return xn0\n",
    "        if f2 * f1 < 0:\n",
    "            xn0, f0 = xn1, f1\n",
    "        xn1, f1 = xn2, f2\n",
    "    print(\"No convergio\")\n",
    "def signum(x):\n",
    "    if x == 0:\n",
    "        return 0\n",
    "    elif x > 0:\n",
    "        return 1\n",
    "    return -1\n",
    "\n",
    "PosicionFalsa(0, math.pi/4)"
   ]
  }
 ],
 "metadata": {
  "kernelspec": {
   "display_name": "Python 3 (ipykernel)",
   "language": "python",
   "name": "python3"
  },
  "language_info": {
   "codemirror_mode": {
    "name": "ipython",
    "version": 3
   },
   "file_extension": ".py",
   "mimetype": "text/x-python",
   "name": "python",
   "nbconvert_exporter": "python",
   "pygments_lexer": "ipython3",
   "version": "3.11.10"
  }
 },
 "nbformat": 4,
 "nbformat_minor": 5
}
