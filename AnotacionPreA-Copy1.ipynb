{
 "cells": [
  {
   "cell_type": "markdown",
   "id": "c2926f9b",
   "metadata": {},
   "source": [
    "<h1 style=\"text-align:center;\">ESCUELA POLITÉCNICA NACIONAL</h1>\n",
    "<h2 style=\"text-align:center;\">FACULTAD DE INGENIERÍA DE SISTEMAS</h2>\n",
    "<h3 style=\"text-align:center;\">INGENIERÍA EN COMPUTACIÓN</h3>"
   ]
  },
  {
   "cell_type": "markdown",
   "id": "2c6ffda6",
   "metadata": {},
   "source": [
    "**PERÍODO ACADÉMICO:** 2025-A  \n",
    "**ASIGNATURA:** ICCD412 Métodos Numéricos  \n",
    "**GRUPO:** GR2  \n",
    "**TIPO DE INSTRUMENTO:** [Codificación Clase 1]\n",
    "**FECHA DE ENTREGA LÍMITE:** [01/06/2025]  \n",
    "**ALUMNO:** Murillo Tobar Juan Pablo"
   ]
  },
  {
   "cell_type": "code",
   "execution_count": 1,
   "id": "5215ff03",
   "metadata": {
    "vscode": {
     "languageId": "html"
    }
   },
   "outputs": [],
   "source": [
    "# Librerías usadas en todo el notebook\n",
    "import math"
   ]
  },
  {
   "cell_type": "markdown",
   "id": "60b8b2a6",
   "metadata": {},
   "source": [
    "<h4 style=\"text-align:center;\">Métodos Analíticos</h4>\n",
    "\n",
    "Toman soluciones matemáticas exactas, es decir, nos brinda soluciones exactas y manejables. Además, no nos cuenta tanto calcularlo.\n",
    "Un ejemplo es un sistema de ecuaciones de grado 1 2x2\n",
    "\\begin{cases}\n",
    "ax + by = f \\\\\n",
    "cx - dy = e\n",
    "\\end{cases}\n",
    "\n",
    "### Solución analítica\n",
    "Mediante el método de eliminación.\n",
    "#### Resolver la ecuación:\n",
    "\\begin{cases}\n",
    "2x + y = 5 \\\\\n",
    "3x - y = 1\n",
    "\\end{cases}"
   ]
  },
  {
   "cell_type": "code",
   "execution_count": 2,
   "id": "9ec2a2a3",
   "metadata": {
    "vscode": {
     "languageId": "html"
    }
   },
   "outputs": [
    {
     "name": "stdout",
     "output_type": "stream",
     "text": [
      "El valor de x es 1.2 y el valor de y es 2.6\n"
     ]
    }
   ],
   "source": [
    "#Entradas\n",
    "a = 2\n",
    "b = 1\n",
    "c = 3\n",
    "d =  -1\n",
    "f = 5\n",
    "e = 1\n",
    "\n",
    "\n",
    "\n",
    "#Eliminamos una variable\n",
    "if (b > 0 and d >0) or  (b< 0 and d <0):\n",
    "    aOfX = d*a \n",
    "    cOfX = -b*c  \n",
    "    fPLUSe = d*f + (e*-b)\n",
    "else:\n",
    "    if d < 0: \n",
    "        dAux = d*-1\n",
    "        bAux = b\n",
    "    else:\n",
    "        dAux = d\n",
    "        bAux = b*-1\n",
    "        \n",
    "    if dAux == bAux:\n",
    "        aOfX = a\n",
    "        cOfX = c\n",
    "        fPLUSe = f + e   \n",
    "    else:\n",
    "        aOfX = -d*a \n",
    "        cOfX = -b*c\n",
    "        fPLUSe = -d*f + (e*-b)   \n",
    "varOfX  = aOfX + cOfX\n",
    "if varOfX != 0:\n",
    "    x = fPLUSe/varOfX\n",
    "    y = f - (a*x) \n",
    "    print(f\"El valor de x es {x} y el valor de y es {y}\")\n",
    "else:\n",
    "    if varOfX == 0 and  e+f == 0:\n",
    "        print(\"Existen infinitas soluciones\")\n",
    "    else:\n",
    "        print(\"No existe soluciones\")"
   ]
  },
  {
   "cell_type": "markdown",
   "id": "5546728c-4259-47ab-8121-ebd639e5e25b",
   "metadata": {},
   "source": [
    "<h4 style=\"text-align:center;\">Métodos Numéricos</h4>\n",
    "\n",
    "Nos brinda soluciones aproximadas. Son problemas complejos o sin solución exacta, en algunos casos soluciones en expresiones matemáticas. Un ejemplo es encontrar la raíz de una ecuación.\n",
    "\n",
    "$$\n",
    "ax^3 + bx + c = 0 \n",
    "$$\n",
    "\n",
    "### Solución numérica\n",
    "Mediante el método de Newton Rapshon.\n",
    "#### Resolver la ecuación:\n",
    "$$\n",
    "cos(x)  - x\n",
    "$$"
   ]
  },
  {
   "cell_type": "code",
   "execution_count": 3,
   "id": "2673b187-650f-4d7c-b972-477bf8549813",
   "metadata": {},
   "outputs": [
    {
     "name": "stdout",
     "output_type": "stream",
     "text": [
      "0.04586202988221\n",
      "0.0004509554092281265\n",
      "4.4890849038026204e-08\n",
      "La aproximacion a la raiz es 0.7390851781060102\n"
     ]
    },
    {
     "data": {
      "text/plain": [
       "0.7390851332151611"
      ]
     },
     "execution_count": 3,
     "metadata": {},
     "output_type": "execute_result"
    }
   ],
   "source": [
    "def f(x):\n",
    "    return math.cos(x) - x\n",
    "\n",
    "def derivada(x):\n",
    "    return -math.sin(x) - 1\n",
    "\n",
    "def Newton(x0, tol = 1e-6, iter = 40):\n",
    "    xant = x0\n",
    "    for x in range(iter):\n",
    "        fdex = f(xant)\n",
    "        der  = derivada(xant)\n",
    "        if der == 0:\n",
    "            print(\"La derivada en el punto es 0, por lo que diverge.\")\n",
    "        xsig = xant - (fdex/der)\n",
    "        toler = xsig - xant\n",
    "        print(abs(toler))\n",
    "        if abs(toler) < tol:\n",
    "            print(f\"La aproximacion a la raiz es {xant}\")\n",
    "            return xsig\n",
    "        xant = xsig\n",
    "    print(\"No se encontro la aproximacion\")\n",
    "            \n",
    "        \n",
    "Newton(math.pi/4)        \n",
    "    \n",
    "    "
   ]
  },
  {
   "cell_type": "markdown",
   "id": "864f3635-43f8-46c9-98da-094bbc831d6c",
   "metadata": {},
   "source": [
    "<h4 style=\"text-align:center;\">Exactitud vs Precisión</h4>\n",
    "\n",
    "Exactitud -> Cuando está cercano al valor real.\n",
    "\n",
    "Precisión -> Cuando tenemos varios valores y estos son consistentes.\n",
    "Ejemplo: Determinaremos de una lista de mediciones si las mediciones son exactas o precisas.\n",
    "\n",
    "#### Determinar si las mediciones son exactas o precisas :"
   ]
  },
  {
   "cell_type": "code",
   "execution_count": 4,
   "id": "c5c8e697-40a4-4ae9-b313-fc1dfb4e5b9c",
   "metadata": {},
   "outputs": [
    {
     "name": "stdout",
     "output_type": "stream",
     "text": [
      "Son precisas\n",
      "Existe al menos un valor exacto\n"
     ]
    }
   ],
   "source": [
    "medicionesExac = [3.141516, 2, 3.14159265359, 1]\n",
    "medicionesPrec = [2, 2.0001, 1.9999, 2.0001, 1.9999]\n",
    "medicionesPrecExac = [3.14159265359, 3.1415926535, 3.141592653]\n",
    "\n",
    "def Det(mediciones, real = math.pi):\n",
    "    prom = sum(mediciones)/len(mediciones)\n",
    "    a = list(filter(lambda x: round(x,3) == round(prom,3),  mediciones))\n",
    "    b = list(filter(lambda x: round(x,6) == round(real,6),  mediciones))\n",
    "    if len(a) >= len(mediciones) // 1.5:\n",
    "        print(\"Son precisas\")\n",
    "    if len(b) >= 1:\n",
    "        print(\"Existe al menos un valor exacto\")\n",
    "        \n",
    "Det(medicionesPrecExac)    "
   ]
  },
  {
   "cell_type": "markdown",
   "id": "ed6efc9b-fa70-4c9d-a640-907e970ebbbe",
   "metadata": {},
   "source": [
    "<h4 style=\"text-align:center;\">Tipos de Errores</h4>\n",
    "Existen algunos tipos de errores como: truncamiento, redondeo y por desbordamiento\n",
    "Ejemplo: una función que realiza un truncamiento a la cifra decimal deseada.\n",
    "Truncar pi a 3 cifras decimales = 3.141\n",
    "\n",
    "#### Trunca un número:\n",
    "real = pi "
   ]
  },
  {
   "cell_type": "code",
   "execution_count": 5,
   "id": "63c5dceb-52a4-460b-8a12-c8fe4768fd0f",
   "metadata": {},
   "outputs": [
    {
     "name": "stdout",
     "output_type": "stream",
     "text": [
      "['3', '141592653589793']\n",
      "3.141\n"
     ]
    },
    {
     "data": {
      "text/plain": [
       "3.141"
      ]
     },
     "execution_count": 5,
     "metadata": {},
     "output_type": "execute_result"
    }
   ],
   "source": [
    "def Truncar(numero, dec=6):\n",
    "    a = str(numero)\n",
    "    b = a.split(\".\")\n",
    "    print(b)\n",
    "    numeroTruncado = b[0]+\".\"+b[1][:dec]\n",
    "    print(numeroTruncado)\n",
    "    return float(numeroTruncado) \n",
    "\n",
    "Truncar(math.pi, 3)"
   ]
  },
  {
   "cell_type": "markdown",
   "id": "5e928c91-7bfb-4d53-b72a-2b731618850e",
   "metadata": {},
   "source": [
    "<h4 style=\"text-align:center;\">Cálculo de Error</h4>\n",
    "Existen 4 errores para el cálculo de errores: \n",
    "\n",
    "Real -> Diferencia entre el valor real y el valor con algún tipo de error. \n",
    "\n",
    "$$p - p^*$$\n",
    "\n",
    "Absoluto -> El valor absoluto de la diferencia entre el valor real y el valor con algún tipo de error. \n",
    "$$|p - p^*|$$\n",
    "\n",
    "Relativo -> El error absoluto dividido para el valor real\n",
    "\n",
    "$$|\\frac{p - p^*}{p}|$$\n",
    "\n",
    "Porcentual -> El error relativo por 100\n",
    "\n",
    "$$|\\frac{p - p^*}{p}| \\times 100$$\n"
   ]
  },
  {
   "cell_type": "code",
   "execution_count": 6,
   "id": "543c8eb8-59dc-4172-8f4c-a63d3e0e4d41",
   "metadata": {},
   "outputs": [
    {
     "name": "stdout",
     "output_type": "stream",
     "text": [
      "El error real es -7.346410206832132e-06\n",
      "El error absoluto es 7.346410206832132e-06\n",
      "El error relativo es 2.3384349967961744e-06\n",
      "El error porcentual es 0.00023384349967961744\n"
     ]
    }
   ],
   "source": [
    "def Errores(calculado, rel):\n",
    "    real = rel -calculado\n",
    "    print(f\"El error real es {real}\")\n",
    "    absoluto = abs(rel -calculado)\n",
    "    print(f\"El error absoluto es {absoluto}\")\n",
    "    relativo = abs(rel -calculado)/rel\n",
    "    print(f\"El error relativo es {relativo}\")\n",
    "    porcentual = (abs(rel -calculado)/rel)*100\n",
    "    print(f\"El error porcentual es {porcentual}\")\n",
    "\n",
    "Errores(3.1416, math.pi)\n",
    "    "
   ]
  },
  {
   "cell_type": "code",
   "execution_count": null,
   "id": "5680e7be-6196-427a-8618-84f6c5d38174",
   "metadata": {},
   "outputs": [],
   "source": []
  }
 ],
 "metadata": {
  "kernelspec": {
   "display_name": "Python 3 (ipykernel)",
   "language": "python",
   "name": "python3"
  },
  "language_info": {
   "codemirror_mode": {
    "name": "ipython",
    "version": 3
   },
   "file_extension": ".py",
   "mimetype": "text/x-python",
   "name": "python",
   "nbconvert_exporter": "python",
   "pygments_lexer": "ipython3",
   "version": "3.11.10"
  }
 },
 "nbformat": 4,
 "nbformat_minor": 5
}
