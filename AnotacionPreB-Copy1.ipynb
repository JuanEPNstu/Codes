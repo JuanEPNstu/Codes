{
 "cells": [
  {
   "cell_type": "markdown",
   "id": "c2926f9b",
   "metadata": {},
   "source": [
    "<h1 style=\"text-align:center;\">ESCUELA POLITÉCNICA NACIONAL</h1>\n",
    "<h2 style=\"text-align:center;\">FACULTAD DE INGENIERÍA DE SISTEMAS</h2>\n",
    "<h3 style=\"text-align:center;\">INGENIERÍA EN COMPUTACIÓN</h3>"
   ]
  },
  {
   "cell_type": "markdown",
   "id": "2c6ffda6",
   "metadata": {},
   "source": [
    "**PERÍODO ACADÉMICO:** 2025-A  \n",
    "**ASIGNATURA:** ICCD412 Métodos Numéricos  \n",
    "**GRUPO:** GR2  \n",
    "**TIPO DE INSTRUMENTO:** [Codificación Clase 2]\n",
    "**FECHA DE ENTREGA LÍMITE:** [01/06/2025]  \n",
    "**ALUMNO:** Murillo Tobar Juan Pablo"
   ]
  },
  {
   "cell_type": "code",
   "execution_count": 68,
   "id": "5215ff03",
   "metadata": {
    "vscode": {
     "languageId": "html"
    }
   },
   "outputs": [],
   "source": [
    "# Librerías usadas en todo el notebook\n",
    "import math\n",
    "import time"
   ]
  },
  {
   "cell_type": "markdown",
   "id": "60b8b2a6",
   "metadata": {},
   "source": [
    "<h4 style=\"text-align:center;\">Representación Numérica 32 y 64 bits</h4>\n",
    "Es una representación de punto flotante que se utiliza en los equipos informáticos. \n",
    "\n",
    "#### Conversión:\n",
    "Convertir \"263.31\" en IEE 754 32 bits\n"
   ]
  },
  {
   "cell_type": "code",
   "execution_count": 18,
   "id": "9ec2a2a3",
   "metadata": {
    "vscode": {
     "languageId": "html"
    }
   },
   "outputs": [
    {
     "name": "stdout",
     "output_type": "stream",
     "text": [
      "01000011100000111010011110101110\n",
      "0100000001110000011101001111010111000010100011110101110000101000\n"
     ]
    }
   ],
   "source": [
    "#Divide en dos partes al número, parte entera, parte decimal\n",
    "num = '263.31'\n",
    "def IEE75432bits(num):\n",
    "    two_parts = num.split('.')\n",
    "    signo = None\n",
    "    if('-' in two_parts[0]):\n",
    "        signo = 1\n",
    "    else:\n",
    "        signo = 0\n",
    "    BinEntero = bin(int(two_parts[0])).split(\"b\")[1]\n",
    "    BinDecimal = ConvertirBinarioParteDecimal(two_parts[1])\n",
    "    datosimp = juntarNormalizar(BinEntero, BinDecimal)\n",
    "    expsesgado = int(datosimp[-2]) + 127\n",
    "    BinExp = bin(expsesgado).split(\"b\")[1]\n",
    "    mantisa = datosimp[-1][:23]\n",
    "    return str(signo)+BinExp+mantisa\n",
    "    \n",
    "def IEE75464bits(num):\n",
    "    two_parts = num.split('.')\n",
    "    signo = None\n",
    "    if('-' in two_parts[0]):\n",
    "        signo = 1\n",
    "    else:\n",
    "        signo = 0\n",
    "    BinEntero = bin(int(two_parts[0])).split(\"b\")[1]\n",
    "    BinDecimal = ConvertirBinarioParteDecimal(two_parts[1])\n",
    "    datosimp = juntarNormalizar(BinEntero, BinDecimal)\n",
    "    expsesgado = int(datosimp[-2]) + 1023\n",
    "    BinExp = bin(expsesgado).split(\"b\")[1]\n",
    "    mantisa = datosimp[-1][:52]\n",
    "    return str(signo)+BinExp+mantisa    \n",
    "    \n",
    "\n",
    "#Convierte a binarios los decimales de un número\n",
    "def ConvertirBinarioParteDecimal(partedecimal, precision=52):\n",
    "    auxiliar = float('0.'+partedecimal)\n",
    "    numero_binario = \"\"\n",
    "    for x in range(0,precision):\n",
    "        auxiliar = auxiliar*2\n",
    "        digito_binario = (str(auxiliar).split('.'))[0]\n",
    "        numero_binario += digito_binario\n",
    "        auxiliar = float('0.'+str(auxiliar).split('.')[1])\n",
    "    return numero_binario\n",
    "\n",
    "\n",
    "\n",
    "def juntarNormalizar(entero_binario, decimal_binario):\n",
    "    #Este sera nuestro numero binario final\n",
    "    numero_binario = entero_binario + \".\"+ decimal_binario\n",
    "    #Ahora lo normalizaremos :)\n",
    "    if(entero_binario != '0' ): # Si existe algo antes de la coma se aplica esto\n",
    "        #Calculamos exponente\n",
    "        exponente = str(len(entero_binario[1:])) #espacios movidos\n",
    "        auxiliar = entero_binario[:1]+\".\"+entero_binario[1:]+decimal_binario\n",
    "        #Le damos la representacion normalizada\n",
    "        normalizado =  auxiliar+\"*2^\"+str(exponente)\n",
    "        #Extraemos la mantisa sin delimitar\n",
    "        mantisa_sindelimitar = entero_binario[1:]+decimal_binario\n",
    "        return [numero_binario, normalizado, exponente, mantisa_sindelimitar]\n",
    "    else: #Si no existe algo antes de la coma, la coma se movera a la derecha ej0.000100000\n",
    "        posicion_punto = decimal_binario.find('1') \n",
    "        exponente = '-'+str(posicion_punto +1) \n",
    "        normalizado = '1'+'.'+decimal_binario[posicion_punto+1:]+\"*2^\"+exponente\n",
    "        mantisa_sindelimitar = decimal_binario[posicion_punto+1:]\n",
    "        return [numero_binario, normalizado, exponente, mantisa_sindelimitar]  \n",
    "    \n",
    "print(IEE75432bits(num))\n",
    "print(IEE75464bits(num))"
   ]
  },
  {
   "cell_type": "markdown",
   "id": "5546728c-4259-47ab-8121-ebd639e5e25b",
   "metadata": {},
   "source": [
    "<h4 style=\"text-align:center;\">Aritmética de Computador</h4>\n",
    "\n",
    "Permite hacer operaciones en donde los operandos y la respuesta es representada en punto flotante.\n",
    "\n",
    "#### Resolver :\n",
    "x = 71.429\n",
    "y = 0.714251\n",
    "$$\n",
    "x \\bigotimes y\n",
    "$$"
   ]
  },
  {
   "cell_type": "code",
   "execution_count": 62,
   "id": "2673b187-650f-4d7c-b972-477bf8549813",
   "metadata": {},
   "outputs": [
    {
     "name": "stdout",
     "output_type": "stream",
     "text": [
      "0.51018234679e2\n"
     ]
    }
   ],
   "source": [
    "def aritmetica(x):\n",
    "    a = str(x).split(\".\")\n",
    "    if a[0] == '0':\n",
    "        if a[1][0] == '0':\n",
    "            decimal = a[1]\n",
    "            exp = expo(decimal)\n",
    "            print(exp)\n",
    "            puntodec = \"0.\"+a[1][exp]+\"e-\"+str(exp) \n",
    "            return puntodec\n",
    "    else:\n",
    "        exp = len(a[0])\n",
    "        puntodec = \"0.\"+a[0]+a[1]+\"e\"+str(exp) \n",
    "        return puntodec\n",
    "    return x\n",
    "def expo(decimal):\n",
    "    exp = 0\n",
    "    cifra = decimal[0]\n",
    "    while cifra == '0':\n",
    "        exp+= 1\n",
    "        cifra = decimal[exp]\n",
    "    return exp\n",
    "\n",
    "x = aritmetica('71.429')    \n",
    "y = aritmetica('0.714251') \n",
    "res = float(x)*float(y)\n",
    "respuesta = aritmetica(str(res))\n",
    "print(respuesta)\n"
   ]
  },
  {
   "cell_type": "markdown",
   "id": "864f3635-43f8-46c9-98da-094bbc831d6c",
   "metadata": {},
   "source": [
    "<h4 style=\"text-align:center;\">Convergencia, Divergencia y Tolerancia</h4>\n",
    "\n",
    "Convergencia -> Cuando el método cada vez se aproxima más a la solución. \n",
    "\n",
    "Divergencia -> Cuando el método cada vez se aleja más a la solución. \n",
    "\n",
    "Tolerancia -> Nos permite ver si el método diverge o converge. \n",
    "\n",
    "#### Determinar si diverge o converge el método de Newton Raphson:\n",
    "Ejemplo -> $ x^{1/3}$"
   ]
  },
  {
   "cell_type": "code",
   "execution_count": 65,
   "id": "c5c8e697-40a4-4ae9-b313-fc1dfb4e5b9c",
   "metadata": {},
   "outputs": [
    {
     "name": "stdout",
     "output_type": "stream",
     "text": [
      "3.0\n",
      "6.0\n",
      "11.999999999999998\n",
      "23.999999999999996\n",
      "47.999999999999986\n",
      "95.99999999999994\n",
      "191.99999999999983\n",
      "383.99999999999955\n",
      "767.999999999999\n",
      "1535.9999999999975\n",
      "No convergio\n"
     ]
    }
   ],
   "source": [
    "def f(x):\n",
    "    return x**(1/3)\n",
    "\n",
    "def derivada(x):\n",
    "    return (1/3)*x**(-2/3)\n",
    "\n",
    "def Newton(x0, tol = 1e-6, iter = 10):\n",
    "    xant = x0\n",
    "    for x in range(iter):\n",
    "        fdex = f(xant)\n",
    "        der  = derivada(xant)\n",
    "        if der == 0:\n",
    "            print(\"La derivada en el punto es 0, por lo que diverge.\")\n",
    "        xsig = xant - (fdex/der)\n",
    "        toler = xsig - xant\n",
    "        print(abs(toler))\n",
    "        if abs(toler) < tol:\n",
    "            print(f\"La aproximacion a la raiz es {xant}\")\n",
    "            return xsig\n",
    "        xant = xsig\n",
    "    print(\"No convergio\")\n",
    "            \n",
    "        \n",
    "Newton(1)        \n",
    "    "
   ]
  },
  {
   "cell_type": "markdown",
   "id": "ed6efc9b-fa70-4c9d-a640-907e970ebbbe",
   "metadata": {},
   "source": [
    "<h4 style=\"text-align:center;\">Criterios de parada</h4>\n",
    "Los criterios de parada nos permite evitar bucles al infinito en la implementación de nuestros métodos. Además se usan dentro de los algoritmos. Tenemos tiempo, iteraciones, error absoluto, error relativo, valor de función. \n",
    "\n",
    "#### Todos los criterios en Newton Rapshon:"
   ]
  },
  {
   "cell_type": "code",
   "execution_count": 86,
   "id": "63c5dceb-52a4-460b-8a12-c8fe4768fd0f",
   "metadata": {},
   "outputs": [
    {
     "name": "stdout",
     "output_type": "stream",
     "text": [
      "Error 0.04586202988221\n",
      "Error 0.0004509554092281265\n",
      "Error 4.4890849038026204e-08\n",
      "El tiempo de ejecucion es demasiado. Saliendo...\n",
      "Error 0.04586202988221 0.7395361335152383\n",
      "Error 0.0004509554092281265 0.7390851781060102\n",
      "Error 4.4890849038026204e-08 0.7390851332151611\n",
      "La aproximacion a la raiz es 0.7390851781060102\n",
      "Error 0.04586202988221\n",
      "Error 0.0004509554092281265\n",
      "Error 4.4890849038026204e-08\n",
      "La aproximacion a la raiz es 0.7390851332151611 y fue el valor de funcion como criterio de parada\n"
     ]
    },
    {
     "data": {
      "text/plain": [
       "0.7390851332151611"
      ]
     },
     "execution_count": 86,
     "metadata": {},
     "output_type": "execute_result"
    }
   ],
   "source": [
    "def f(x):\n",
    "    return math.cos(x) - x\n",
    "\n",
    "def derivada(x):\n",
    "    return -math.sin(x) - 1\n",
    "\n",
    "def TiempoIteracionesAbsolutoNewton(x0, tol = 1e-6, iter = 1000000):\n",
    "    xant = x0\n",
    "    inicio = time.time()\n",
    "    for x in range(iter):\n",
    "        time.sleep(0.4) # Simulando que cada calculo es un poco lento \n",
    "        fdex = f(xant)\n",
    "        der  = derivada(xant)\n",
    "        if der == 0:\n",
    "            print(\"La derivada en el punto es 0, por lo que diverge.\")\n",
    "        xsig = xant - (fdex/der)\n",
    "        toler = xsig - xant\n",
    "        print(\"Error\",abs(toler))\n",
    "        if (time.time() - inicio) > 1: # Tiempo\n",
    "            print(f\"El tiempo de ejecucion es demasiado. Saliendo...\")\n",
    "            return xsig\n",
    "        xant = xsig\n",
    "    print(\"No convergio\")\n",
    "\n",
    "def RelativoNewton(x0, tol = 1e-6, iter = 10):\n",
    "    xant = x0\n",
    "    for x in range(iter):\n",
    "        fdex = f(xant)\n",
    "        der  = derivada(xant)\n",
    "        if der == 0:\n",
    "            print(\"La derivada en el punto es 0, por lo que diverge.\")\n",
    "        xsig = xant - (fdex/der)\n",
    "        toler = xsig - xant\n",
    "        print(\"Error\", abs(toler), xsig)\n",
    "        if (abs(toler/xsig)) < tol: # Error relativo \n",
    "            print(f\"La aproximacion a la raiz es {xant}\")\n",
    "            return xsig\n",
    "        xant = xsig\n",
    "    print(\"No convergio\")\n",
    "\n",
    "def ValorNewton(x0, tol = 1e-6, iter = 10):\n",
    "    xant = x0\n",
    "    for x in range(iter):\n",
    "        fdex = f(xant)\n",
    "        der  = derivada(xant)\n",
    "        if der == 0:\n",
    "            print(\"La derivada en el punto es 0, por lo que diverge.\")\n",
    "        xsig = xant - (fdex/der)\n",
    "        toler = xsig - xant\n",
    "        print(\"Error\", abs(toler))\n",
    "        if xsig == 0.7390851332151611: # Error relativo \n",
    "            print(f\"La aproximacion a la raiz es {xsig} y fue el valor de funcion como criterio de parada\")\n",
    "            return xsig\n",
    "        xant = xsig\n",
    "    print(\"No convergio\")\n",
    "\n",
    "\n",
    "TiempoIteracionesAbsolutoNewton(math.pi/4) \n",
    "RelativoNewton(math.pi/4)\n",
    "ValorNewton(math.pi/4) "
   ]
  },
  {
   "cell_type": "code",
   "execution_count": null,
   "id": "9c515162-a7c6-42c5-902b-fe8d738b82cb",
   "metadata": {},
   "outputs": [],
   "source": []
  }
 ],
 "metadata": {
  "kernelspec": {
   "display_name": "Python 3 (ipykernel)",
   "language": "python",
   "name": "python3"
  },
  "language_info": {
   "codemirror_mode": {
    "name": "ipython",
    "version": 3
   },
   "file_extension": ".py",
   "mimetype": "text/x-python",
   "name": "python",
   "nbconvert_exporter": "python",
   "pygments_lexer": "ipython3",
   "version": "3.11.10"
  }
 },
 "nbformat": 4,
 "nbformat_minor": 5
}
